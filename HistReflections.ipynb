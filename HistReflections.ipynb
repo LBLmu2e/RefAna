{
 "cells": [
  {
   "cell_type": "code",
   "execution_count": 1,
   "id": "d27777cf-8d8e-4e09-94b0-6ca40be7765b",
   "metadata": {},
   "outputs": [
    {
     "name": "stdout",
     "output_type": "stream",
     "text": [
      "adding path /home/online1/brownd/mu2e/pyana/RefAna\n",
      "adding path /home/online1/brownd/mu2e/pyana/TrkAna\n",
      "adding path /home/online1/brownd/mu2e/pyana/awkward-behaviors\n",
      "['/home/online1/rubyknudsen/miniconda3/envs/jupyter_env/lib/python312.zip', '/home/online1/rubyknudsen/miniconda3/envs/jupyter_env/lib/python3.12', '/home/online1/rubyknudsen/miniconda3/envs/jupyter_env/lib/python3.12/lib-dynload', '', '/home/online1/rubyknudsen/miniconda3/envs/jupyter_env/lib/python3.12/site-packages', '/home/online1/brownd/mu2e/pyana/RefAna', '/home/online1/brownd/mu2e/pyana/TrkAna', '/home/online1/brownd/mu2e/pyana/awkward-behaviors']\n"
     ]
    }
   ],
   "source": [
    "import sys\n",
    "extra_paths = [\"/home/online1/brownd/mu2e/pyana/RefAna\",\"/home/online1/brownd/mu2e/pyana/TrkAna\",\"/home/online1/brownd/mu2e/pyana/awkward-behaviors\"]\n",
    "for extra_path in extra_paths:\n",
    "    print(\"adding path\",extra_path)\n",
    "    if extra_path not in sys.path:\n",
    "        sys.path.append(extra_path)\n",
    "print(sys.path)"
   ]
  },
  {
   "cell_type": "code",
   "execution_count": 2,
   "id": "f62b5c9c-7778-4c82-b79f-582ff13e0b54",
   "metadata": {},
   "outputs": [],
   "source": [
    "import HistReflections"
   ]
  },
  {
   "cell_type": "code",
   "execution_count": 3,
   "id": "46399cc0-0a8b-4b76-beeb-93c356b49187",
   "metadata": {},
   "outputs": [],
   "source": [
    "###### onefile = [\"/data/HD5/users/brownd/61803286/nts.brownd.TAReflect.CRYAllOffSpill.001202_00000010.root\"]\n",
    "allfiles = [\n",
    "\"/data/HD5/users/brownd/61803286/nts.brownd.TAReflect.CRYAllOffSpill.001202_00000010.root\",\n",
    "\"/data/HD5/users/brownd/61803286/nts.brownd.TAReflect.CRYAllOffSpill.001202_00000518.root\",\n",
    "\"/data/HD5/users/brownd/61803286/nts.brownd.TAReflect.CRYAllOffSpill.001202_00001032.root\",\n",
    "\"/data/HD5/users/brownd/61803286/nts.brownd.TAReflect.CRYAllOffSpill.001202_00001547.root\",\n",
    "\"/data/HD5/users/brownd/61803286/nts.brownd.TAReflect.CRYAllOffSpill.001202_00002057.root\",\n",
    "\"/data/HD5/users/brownd/61803286/nts.brownd.TAReflect.CRYAllOffSpill.001202_00002561.root\",\n",
    "\"/data/HD5/users/brownd/61803286/nts.brownd.TAReflect.CRYAllOffSpill.001202_00003067.root\",\n",
    "\"/data/HD5/users/brownd/61803286/nts.brownd.TAReflect.CRYAllOffSpill.001202_00003570.root\",\n",
    "\"/data/HD5/users/brownd/61803286/nts.brownd.TAReflect.CRYAllOffSpill.001202_00004074.root\",\n",
    "\"/data/HD5/users/brownd/61803286/nts.brownd.TAReflect.CRYAllOffSpill.001202_00004577.root\",\n",
    "\"/data/HD5/users/brownd/61803286/nts.brownd.TAReflect.CRYAllOffSpill.001202_00005081.root\",\n",
    "\"/data/HD5/users/brownd/61803286/nts.brownd.TAReflect.CRYAllOffSpill.001202_00005616.root\",\n",
    "\"/data/HD5/users/brownd/61803286/nts.brownd.TAReflect.CRYAllOffSpill.001202_00006156.root\",\n",
    "\"/data/HD5/users/brownd/61803286/nts.brownd.TAReflect.CRYAllOffSpill.001202_00006706.root\",\n",
    "\"/data/HD5/users/brownd/61803286/nts.brownd.TAReflect.CRYAllOffSpill.001202_00007246.root\",\n",
    "\"/data/HD5/users/brownd/61803286/nts.brownd.TAReflect.CRYAllOffSpill.001202_00007764.root\",\n",
    "\"/data/HD5/users/brownd/61803286/nts.brownd.TAReflect.CRYAllOffSpill.001202_00008324.root\",\n",
    "\"/data/HD5/users/brownd/61803286/nts.brownd.TAReflect.CRYAllOffSpill.001202_00008894.root\",\n",
    "\"/data/HD5/users/brownd/61803286/nts.brownd.TAReflect.CRYAllOffSpill.001202_00009535.root\",\n",
    "\"/data/HD5/users/brownd/61803286/nts.brownd.TAReflect.CRYAllOffSpill.001202_00013483.root\"\n",
    "]\n",
    "\n",
    "signalallfiles = [\n",
    "\"/data/HD6/users/brownd/19973086/00/00000/nts.brownd.TAReflect.OffSignalAll.001202_00000000.root\",\n",
    "\"/data/HD6/users/brownd/19973086/00/00002/nts.brownd.TAReflect.OffSignalAll.001202_00000073.root\",\n",
    "\"/data/HD6/users/brownd/19973086/00/00003/nts.brownd.TAReflect.OffSignalAll.001202_00000911.root\",\n",
    "\"/data/HD6/users/brownd/19973086/00/00004/nts.brownd.TAReflect.OffSignalAll.001202_00004957.root\",\n",
    "\"/data/HD6/users/brownd/19973086/00/00005/nts.brownd.TAReflect.OffSignalAll.001202_00005080.root\",\n",
    "\"/data/HD6/users/brownd/19973086/00/00006/nts.brownd.TAReflect.OffSignalAll.001202_00006131.root\",\n",
    "\"/data/HD6/users/brownd/19973086/00/00007/nts.brownd.TAReflect.OffSignalAll.001202_00010056.root\",\n",
    "\"/data/HD6/users/brownd/19973086/00/00008/nts.brownd.TAReflect.OffSignalAll.001202_00011021.root\",\n",
    "\"/data/HD6/users/brownd/19973086/00/00009/nts.brownd.TAReflect.OffSignalAll.001202_00015054.root\",\n",
    "\"/data/HD6/users/brownd/19973086/00/00010/nts.brownd.TAReflect.OffSignalAll.001202_00015418.root\",\n",
    "\"/data/HD6/users/brownd/19973086/00/00011/nts.brownd.TAReflect.OffSignalAll.001202_00019923.root\",\n",
    "\"/data/HD6/users/brownd/19973086/00/00012/nts.brownd.TAReflect.OffSignalAll.001202_00020003.root\",\n",
    "\"/data/HD6/users/brownd/19973086/00/00013/nts.brownd.TAReflect.OffSignalAll.001202_00024885.root\",\n",
    "\"/data/HD6/users/brownd/19973086/00/00014/nts.brownd.TAReflect.OffSignalAll.001202_00024932.root\",\n",
    "\"/data/HD6/users/brownd/19973086/00/00015/nts.brownd.TAReflect.OffSignalAll.001202_00025005.root\",\n",
    "\"/data/HD6/users/brownd/19973086/00/00016/nts.brownd.TAReflect.OffSignalAll.001202_00027303.root\",\n",
    "\"/data/HD6/users/brownd/19973086/00/00017/nts.brownd.TAReflect.OffSignalAll.001202_00030001.root\",\n",
    "\"/data/HD6/users/brownd/19973086/00/00018/nts.brownd.TAReflect.OffSignalAll.001202_00031203.root\",\n",
    "\"/data/HD6/users/brownd/19973086/00/00019/nts.brownd.TAReflect.OffSignalAll.001202_00034862.root\",\n",
    "\"/data/HD6/users/brownd/19973086/00/00020/nts.brownd.TAReflect.OffSignalAll.001202_00034994.root\",\n",
    "\"/data/HD6/users/brownd/19973086/00/00021/nts.brownd.TAReflect.OffSignalAll.001202_00035393.root\",\n",
    "\"/data/HD6/users/brownd/19973086/00/00022/nts.brownd.TAReflect.OffSignalAll.001202_00036806.root\",\n",
    "\"/data/HD6/users/brownd/19973086/00/00023/nts.brownd.TAReflect.OffSignalAll.001202_00040674.root\",\n",
    "\"/data/HD6/users/brownd/19973086/00/00024/nts.brownd.TAReflect.OffSignalAll.001202_00042791.root\",\n",
    "\"/data/HD6/users/brownd/19973086/00/00025/nts.brownd.TAReflect.OffSignalAll.001202_00044889.root\",\n",
    "\"/data/HD6/users/brownd/19973086/00/00026/nts.brownd.TAReflect.OffSignalAll.001202_00049823.root\",\n",
    "\"/data/HD6/users/brownd/19973086/00/00027/nts.brownd.TAReflect.OffSignalAll.001202_00049964.root\",\n",
    "\"/data/HD6/users/brownd/19973086/00/00028/nts.brownd.TAReflect.OffSignalAll.001202_00050463.root\",\n",
    "\"/data/HD6/users/brownd/19973086/00/00029/nts.brownd.TAReflect.OffSignalAll.001202_00051934.root\",\n",
    "\"/data/HD6/users/brownd/19973086/00/00030/nts.brownd.TAReflect.OffSignalAll.001202_00055130.root\",\n",
    "\"/data/HD6/users/brownd/19973086/00/00031/nts.brownd.TAReflect.OffSignalAll.001202_00056607.root\",\n",
    "\"/data/HD6/users/brownd/19973086/00/00032/nts.brownd.TAReflect.OffSignalAll.001202_00059005.root\",\n",
    "\"/data/HD6/users/brownd/19973086/00/00033/nts.brownd.TAReflect.OffSignalAll.001202_00060622.root\",\n",
    "\"/data/HD6/users/brownd/19973086/00/00034/nts.brownd.TAReflect.OffSignalAll.001202_00062188.root\",\n",
    "\"/data/HD6/users/brownd/19973086/00/00035/nts.brownd.TAReflect.OffSignalAll.001202_00065127.root\",\n",
    "\"/data/HD6/users/brownd/19973086/00/00036/nts.brownd.TAReflect.OffSignalAll.001202_00066074.root\",\n",
    "\"/data/HD6/users/brownd/19973086/00/00037/nts.brownd.TAReflect.OffSignalAll.001202_00069958.root\",\n",
    "\"/data/HD6/users/brownd/19973086/00/00038/nts.brownd.TAReflect.OffSignalAll.001202_00070336.root\",\n",
    "\"/data/HD6/users/brownd/19973086/00/00039/nts.brownd.TAReflect.OffSignalAll.001202_00074959.root\",\n",
    "\"/data/HD6/users/brownd/19973086/00/00040/nts.brownd.TAReflect.OffSignalAll.001202_00075065.root\"\n",
    "]\n",
    "\n",
    "tqfiles = [\n",
    "\"/data/HD6/users/brownd/78104930/nts.brownd.ENreflection.ENR.001202_00000000.root\",\n",
    "\"/data/HD6/users/brownd/78104930/nts.brownd.ENreflection.ENR.001202_00000012.root\",\n",
    "\"/data/HD6/users/brownd/78104930/nts.brownd.ENreflection.ENR.001202_00000025.root\",\n",
    "\"/data/HD6/users/brownd/78104930/nts.brownd.ENreflection.ENR.001202_00000045.root\",\n",
    "\"/data/HD6/users/brownd/78104930/nts.brownd.ENreflection.ENR.001202_00000073.root\",\n",
    "\"/data/HD6/users/brownd/78104930/nts.brownd.ENreflection.ENR.001202_00000126.root\",\n",
    "\"/data/HD6/users/brownd/78104930/nts.brownd.ENreflection.ENR.001202_00000911.root\",\n",
    "\"/data/HD6/users/brownd/78104930/nts.brownd.ENreflection.ENR.001202_00004287.root\",\n",
    "\"/data/HD6/users/brownd/78104930/nts.brownd.ENreflection.ENR.001202_00004957.root\",\n",
    "\"/data/HD6/users/brownd/78104930/nts.brownd.ENreflection.ENR.001202_00005029.root\",\n",
    "\"/data/HD6/users/brownd/78104930/nts.brownd.ENreflection.ENR.001202_00005080.root\",\n",
    "\"/data/HD6/users/brownd/78104930/nts.brownd.ENreflection.ENR.001202_00005260.root\",\n",
    "\"/data/HD6/users/brownd/78104930/nts.brownd.ENreflection.ENR.001202_00006131.root\",\n",
    "\"/data/HD6/users/brownd/78104930/nts.brownd.ENreflection.ENR.001202_00010020.root\",\n",
    "\"/data/HD6/users/brownd/78104930/nts.brownd.ENreflection.ENR.001202_00010056.root\",\n",
    "\"/data/HD6/users/brownd/78104930/nts.brownd.ENreflection.ENR.001202_00010120.root\",\n",
    "\"/data/HD6/users/brownd/78104930/nts.brownd.ENreflection.ENR.001202_00011021.root\",\n",
    "\"/data/HD6/users/brownd/78104930/nts.brownd.ENreflection.ENR.001202_00013064.root\",\n",
    "\"/data/HD6/users/brownd/78104930/nts.brownd.ENreflection.ENR.001202_00015054.root\",\n",
    "\"/data/HD6/users/brownd/78104930/nts.brownd.ENreflection.ENR.001202_00015257.root\",\n",
    "\"/data/HD6/users/brownd/78104930/nts.brownd.ENreflection.ENR.001202_00015418.root\",\n",
    "\"/data/HD6/users/brownd/78104930/nts.brownd.ENreflection.ENR.001202_00019508.root\",\n",
    "\"/data/HD6/users/brownd/78104930/nts.brownd.ENreflection.ENR.001202_00019923.root\",\n",
    "\"/data/HD6/users/brownd/78104930/nts.brownd.ENreflection.ENR.001202_00019952.root\",\n",
    "\"/data/HD6/users/brownd/78104930/nts.brownd.ENreflection.ENR.001202_00020003.root\",\n",
    "\"/data/HD6/users/brownd/78104930/nts.brownd.ENreflection.ENR.001202_00020092.root\",\n",
    "\"/data/HD6/users/brownd/78104930/nts.brownd.ENreflection.ENR.001202_00024885.root\",\n",
    "\"/data/HD6/users/brownd/78104930/nts.brownd.ENreflection.ENR.001202_00024908.root\",\n",
    "\"/data/HD6/users/brownd/78104930/nts.brownd.ENreflection.ENR.001202_00024932.root\",\n",
    "\"/data/HD6/users/brownd/78104930/nts.brownd.ENreflection.ENR.001202_00024972.root\",\n",
    "\"/data/HD6/users/brownd/78104930/nts.brownd.ENreflection.ENR.001202_00025005.root\",\n",
    "\"/data/HD6/users/brownd/78104930/nts.brownd.ENreflection.ENR.001202_00025291.root\",\n",
    "\"/data/HD6/users/brownd/78104930/nts.brownd.ENreflection.ENR.001202_00027303.root\",\n",
    "\"/data/HD6/users/brownd/78104930/nts.brownd.ENreflection.ENR.001202_00029876.root\",\n",
    "\"/data/HD6/users/brownd/78104930/nts.brownd.ENreflection.ENR.001202_00030001.root\",\n",
    "\"/data/HD6/users/brownd/78104930/nts.brownd.ENreflection.ENR.001202_00030059.root\",\n",
    "\"/data/HD6/users/brownd/78104930/nts.brownd.ENreflection.ENR.001202_00031203.root\",\n",
    "\"/data/HD6/users/brownd/78104930/nts.brownd.ENreflection.ENR.001202_00034811.root\",\n",
    "\"/data/HD6/users/brownd/78104930/nts.brownd.ENreflection.ENR.001202_00034862.root\",\n",
    "\"/data/HD6/users/brownd/78104930/nts.brownd.ENreflection.ENR.001202_00034898.root\",\n",
    "\"/data/HD6/users/brownd/78104930/nts.brownd.ENreflection.ENR.001202_00034994.root\",\n",
    "\"/data/HD6/users/brownd/78104930/nts.brownd.ENreflection.ENR.001202_00035202.root\",\n",
    "\"/data/HD6/users/brownd/78104930/nts.brownd.ENreflection.ENR.001202_00035393.root\",\n",
    "\"/data/HD6/users/brownd/78104930/nts.brownd.ENreflection.ENR.001202_00035753.root\",\n",
    "\"/data/HD6/users/brownd/78104930/nts.brownd.ENreflection.ENR.001202_00036806.root\",\n",
    "\"/data/HD6/users/brownd/78104930/nts.brownd.ENreflection.ENR.001202_00040160.root\",\n",
    "\"/data/HD6/users/brownd/78104930/nts.brownd.ENreflection.ENR.001202_00040674.root\",\n",
    "\"/data/HD6/users/brownd/78104930/nts.brownd.ENreflection.ENR.001202_00042539.root\",\n",
    "\"/data/HD6/users/brownd/78104930/nts.brownd.ENreflection.ENR.001202_00042791.root\",\n",
    "\"/data/HD6/users/brownd/78104930/nts.brownd.ENreflection.ENR.001202_00043083.root\",\n",
    "\"/data/HD6/users/brownd/78104930/nts.brownd.ENreflection.ENR.001202_00044889.root\",\n",
    "\"/data/HD6/users/brownd/78104930/nts.brownd.ENreflection.ENR.001202_00045463.root\",\n",
    "\"/data/HD6/users/brownd/78104930/nts.brownd.ENreflection.ENR.001202_00049823.root\",\n",
    "\"/data/HD6/users/brownd/78104930/nts.brownd.ENreflection.ENR.001202_00049883.root\",\n",
    "\"/data/HD6/users/brownd/78104930/nts.brownd.ENreflection.ENR.001202_00049964.root\",\n",
    "\"/data/HD6/users/brownd/78104930/nts.brownd.ENreflection.ENR.001202_00050087.root\",\n",
    "\"/data/HD6/users/brownd/78104930/nts.brownd.ENreflection.ENR.001202_00050463.root\",\n",
    "\"/data/HD6/users/brownd/78104930/nts.brownd.ENreflection.ENR.001202_00050987.root\",\n",
    "\"/data/HD6/users/brownd/78104930/nts.brownd.ENreflection.ENR.001202_00051934.root\",\n",
    "\"/data/HD6/users/brownd/78104930/nts.brownd.ENreflection.ENR.001202_00054622.root\",\n",
    "\"/data/HD6/users/brownd/78104930/nts.brownd.ENreflection.ENR.001202_00055130.root\",\n",
    "\"/data/HD6/users/brownd/78104930/nts.brownd.ENreflection.ENR.001202_00056037.root\",\n",
    "\"/data/HD6/users/brownd/78104930/nts.brownd.ENreflection.ENR.001202_00056607.root\",\n",
    "\"/data/HD6/users/brownd/78104930/nts.brownd.ENreflection.ENR.001202_00058026.root\",\n",
    "\"/data/HD6/users/brownd/78104930/nts.brownd.ENreflection.ENR.001202_00059005.root\",\n",
    "\"/data/HD6/users/brownd/78104930/nts.brownd.ENreflection.ENR.001202_00060016.root\",\n",
    "\"/data/HD6/users/brownd/78104930/nts.brownd.ENreflection.ENR.001202_00060622.root\",\n",
    "\"/data/HD6/users/brownd/78104930/nts.brownd.ENreflection.ENR.001202_00061507.root\",\n",
    "\"/data/HD6/users/brownd/78104930/nts.brownd.ENreflection.ENR.001202_00062188.root\",\n",
    "\"/data/HD6/users/brownd/78104930/nts.brownd.ENreflection.ENR.001202_00065012.root\",\n",
    "\"/data/HD6/users/brownd/78104930/nts.brownd.ENreflection.ENR.001202_00065127.root\",\n",
    "\"/data/HD6/users/brownd/78104930/nts.brownd.ENreflection.ENR.001202_00065257.root\",\n",
    "\"/data/HD6/users/brownd/78104930/nts.brownd.ENreflection.ENR.001202_00066074.root\",\n",
    "\"/data/HD6/users/brownd/78104930/nts.brownd.ENreflection.ENR.001202_00068656.root\",\n",
    "\"/data/HD6/users/brownd/78104930/nts.brownd.ENreflection.ENR.001202_00069958.root\",\n",
    "\"/data/HD6/users/brownd/78104930/nts.brownd.ENreflection.ENR.001202_00070103.root\",\n",
    "\"/data/HD6/users/brownd/78104930/nts.brownd.ENreflection.ENR.001202_00070336.root\",\n",
    "\"/data/HD6/users/brownd/78104930/nts.brownd.ENreflection.ENR.001202_00074914.root\",\n",
    "\"/data/HD6/users/brownd/78104930/nts.brownd.ENreflection.ENR.001202_00074959.root\",\n",
    "\"/data/HD6/users/brownd/78104930/nts.brownd.ENreflection.ENR.001202_00075016.root\",\n",
    "\"/data/HD6/users/brownd/78104930/nts.brownd.ENreflection.ENR.001202_00075065.root\",\n",
    "\"/data/HD6/users/brownd/78104930/nts.brownd.ENreflection.ENR.001202_00075148.root\"\n",
    "]\n",
    "\n",
    "testfile = [\"/data/HD6/users/brownd/78104930/nts.brownd.ENreflection.ENR.001202_00000000.root\"]\n",
    "files=tqfiles\n",
    "#files = testfile\n",
    "\n",
    "#TNameBase = \"TAR\"\n",
    "TNameBase = \"EN\""
   ]
  },
  {
   "cell_type": "code",
   "execution_count": 4,
   "id": "5be6ce28-f420-498e-bfdd-b1c6a9525387",
   "metadata": {},
   "outputs": [
    {
     "name": "stdout",
     "output_type": "stream",
     "text": [
      "HistReflections, nhits = 20 Mom Range [85, 125] Comparison at TT_Front PDG $e^-$\n"
     ]
    }
   ],
   "source": [
    "import SurfaceIds as SID\n",
    "momrange = [85,125]\n",
    "histref = HistReflections.HistReflections(momrange=momrange,pdg=11,sid=SID.TT_Front())\n",
    "histref.Print()"
   ]
  },
  {
   "cell_type": "code",
   "execution_count": 5,
   "id": "1c9144e5-7ffa-4344-a167-75d5882a76c7",
   "metadata": {},
   "outputs": [
    {
     "name": "stdout",
     "output_type": "stream",
     "text": [
      "Processing batch  0 1 2 3 4 5 6 7 8 9 10 11 12 13 14 15 16 17 18 19 20 21 22 23 24 25 26 27 28 29 30 31 32 33 34 35 36 37 38 39 40 41 42 43 44 45 46 47 48 49 50 51 52 53 54 55 56 57 58 59 60 61 62 63 64 65 66 67 68 69 70 71 72 73 74 75 76 77 78 79 80 81 \n",
      "From 176406 total reflections found 38579 with good quality reco, 35818 confirmed $e^-$ and 3436 Target [85, 125]\n"
     ]
    }
   ],
   "source": [
    "TName = TNameBase+\"e/ntuple\"\n",
    "histref.Loop(files,TName)"
   ]
  },
  {
   "cell_type": "code",
   "execution_count": 6,
   "id": "0a87fd46-2b6e-4077-9caf-fe6a63c0dd94",
   "metadata": {},
   "outputs": [
    {
     "name": "stdout",
     "output_type": "stream",
     "text": [

     ]
    }
   ],
   "source": [
    "histref.Write(\"/data/HD5/users/rubyknudsen/HistReflections_BinnedFoilHits_073125.hdf5\")"
#    "histref.Write(\"/data/HD5/users/brownd/HistReflections_test.hdf5\")"
   ]
  },
  {
   "cell_type": "code",
   "execution_count": null,
   "id": "59ae8d54-c78c-4d35-9ba7-38d7f0487c2b",
   "metadata": {},
   "outputs": [
    {
     "name": "stdout",
     "output_type": "stream",
     "text": [
      "['evtinfo', 'evtinfo/event', 'evtinfo/run', 'evtinfo/subrun', 'evtinfo/nprotons', 'evtinfo/pbtime', 'evtinfo/pbterr', 'evtinfomc', 'evtinfomc/nprotons', 'evtinfomc/pbtime', 'hitcount', 'hitcount/nsd', 'hitcount/nesel', 'hitcount/nrsel', 'hitcount/ntsel', 'hitcount/nbkg', 'tcnt.ntrk', 'trk', 'trk/trk.status', 'trk/trk.goodfit', 'trk/trk.seedalg', 'trk/trk.fitalg', 'trk/trk.pdg', 'trk/trk.nhits', 'trk/trk.ndof', 'trk/trk.nactive', 'trk/trk.ndouble', 'trk/trk.ndactive', 'trk/trk.nplanes', 'trk/trk.planespan', 'trk/trk.nnullambig', 'trk/trk.nmat', 'trk/trk.nmatactive', 'trk/trk.nesel', 'trk/trk.nrsel', 'trk/trk.ntsel', 'trk/trk.nbkg', 'trk/trk.nsel', 'trk/trk.nseg', 'trk/trk.nipaup', 'trk/trk.nipadown', 'trk/trk.nstup', 'trk/trk.nstdown', 'trk/trk.tsdainter', 'trk/trk.opainter', 'trk/trk.firststinter', 'trk/trk.chisq', 'trk/trk.fitcon', 'trk/trk.radlen', 'trk/trk.firsthit', 'trk/trk.lasthit', 'trk/trk.maxgap', 'trk/trk.avggap', 'trk/trk.avgedep', 'trksegs', 'trksegpars_lh', 'trkcalohit', 'trkcalohit/trkcalohit.active', 'trkcalohit/trkcalohit.did', 'trkcalohit/trkcalohit.poca.fCoordinates.fX', 'trkcalohit/trkcalohit.poca.fCoordinates.fY', 'trkcalohit/trkcalohit.poca.fCoordinates.fZ', 'trkcalohit/trkcalohit.mom.fCoordinates.fX', 'trkcalohit/trkcalohit.mom.fCoordinates.fY', 'trkcalohit/trkcalohit.mom.fCoordinates.fZ', 'trkcalohit/trkcalohit.cdepth', 'trkcalohit/trkcalohit.trkdepth', 'trkcalohit/trkcalohit.dphidot', 'trkcalohit/trkcalohit.doca', 'trkcalohit/trkcalohit.dt', 'trkcalohit/trkcalohit.ptoca', 'trkcalohit/trkcalohit.tocavar', 'trkcalohit/trkcalohit.tresid', 'trkcalohit/trkcalohit.tresidmvar', 'trkcalohit/trkcalohit.tresidpvar', 'trkcalohit/trkcalohit.ctime', 'trkcalohit/trkcalohit.ctimeerr', 'trkcalohit/trkcalohit.csize', 'trkcalohit/trkcalohit.edep', 'trkcalohit/trkcalohit.edeperr', 'trkqual', 'trkqual/trkqual.valid', 'trkqual/trkqual.result', 'trkhits', 'trkmats', 'trkmc', 'trkmc/trkmc.valid', 'trkmc/trkmc.ndigi', 'trkmc/trkmc.ndigigood', 'trkmc/trkmc.nhits', 'trkmc/trkmc.nactive', 'trkmc/trkmc.nambig', 'trkmc/trkmc.nipaup', 'trkmc/trkmc.nipadown', 'trkmc/trkmc.nstup', 'trkmc/trkmc.nstdown', 'trkmc/trkmc.maxr', 'trkmc/trkmc.rad', 'trkmc/trkmc.lam', 'trkmc/trkmc.cx', 'trkmc/trkmc.cy', 'trkmc/trkmc.phi0', 'trkmc/trkmc.t0', 'trkmcsim', 'trkmcvd', 'trkcalohitmc', 'trkcalohitmc/trkcalohitmc.nsim', 'trkcalohitmc/trkcalohitmc.etot', 'trkcalohitmc/trkcalohitmc.tavg', 'trkcalohitmc/trkcalohitmc.eprimary', 'trkcalohitmc/trkcalohitmc.tprimary', 'trkcalohitmc/trkcalohitmc.prel._rel', 'trkcalohitmc/trkcalohitmc.prel._rem', 'trkhitsmc', 'trksegsmc', 'caloclusters', 'caloclusters/caloclusters.diskID_', 'caloclusters/caloclusters.time_', 'caloclusters/caloclusters.timeErr_', 'caloclusters/caloclusters.energyDep_', 'caloclusters/caloclusters.energyDepErr_', 'caloclusters/caloclusters.cog_.data[3]', 'caloclusters/caloclusters.hits_', 'caloclusters/caloclusters.size_', 'caloclusters/caloclusters.isSplit_', 'calohits', 'calohits/calohits.crystalId_', 'calohits/calohits.nSiPMs_', 'calohits/calohits.time_', 'calohits/calohits.timeErr_', 'calohits/calohits.eDep_', 'calohits/calohits.eDepErr_', 'calohits/calohits.recoDigis_', 'calohits/calohits.clusterIdx_', 'crvsummary', 'crvsummary/totalPEs', 'crvsummary/nHitCounters', 'crvcoincs', 'crvcoincs/crvcoincs.sectorType', 'crvcoincs/crvcoincs.pos.fCoordinates.fX', 'crvcoincs/crvcoincs.pos.fCoordinates.fY', 'crvcoincs/crvcoincs.pos.fCoordinates.fZ', 'crvcoincs/crvcoincs.timeStart', 'crvcoincs/crvcoincs.timeEnd', 'crvcoincs/crvcoincs.time', 'crvcoincs/crvcoincs.PEs', 'crvcoincs/crvcoincs.PEsPerLayer[4]', 'crvcoincs/crvcoincs.sidePEsPerLayer[8]', 'crvcoincs/crvcoincs.nHits', 'crvcoincs/crvcoincs.nLayers', 'crvcoincs/crvcoincs.angle', 'crvsummarymc', 'crvsummarymc/totalEnergyDeposited', 'crvsummarymc/minPathLayer', 'crvsummarymc/maxPathLayer', 'crvsummarymc/nHitCounters', 'crvsummarymc/pos', 'crvsummarymc/pos/pos.fCoordinates.fX', 'crvsummarymc/pos/pos.fCoordinates.fY', 'crvsummarymc/pos/pos.fCoordinates.fZ', 'crvsummarymc/sectorNumber', 'crvsummarymc/sectorType', 'crvsummarymc/pdgId', 'crvcoincsmc', 'crvcoincsmc/crvcoincsmc.valid', 'crvcoincsmc/crvcoincsmc.pdgId', 'crvcoincsmc/crvcoincsmc.primaryPdgId', 'crvcoincsmc/crvcoincsmc.primaryE', 'crvcoincsmc/crvcoincsmc.primary.fCoordinates.fX', 'crvcoincsmc/crvcoincsmc.primary.fCoordinates.fY', 'crvcoincsmc/crvcoincsmc.primary.fCoordinates.fZ', 'crvcoincsmc/crvcoincsmc.parentPdgId', 'crvcoincsmc/crvcoincsmc.parentE', 'crvcoincsmc/crvcoincsmc.parent.fCoordinates.fX', 'crvcoincsmc/crvcoincsmc.parent.fCoordinates.fY', 'crvcoincsmc/crvcoincsmc.parent.fCoordinates.fZ', 'crvcoincsmc/crvcoincsmc.gparentPdgId', 'crvcoincsmc/crvcoincsmc.gparentE', 'crvcoincsmc/crvcoincsmc.gparent.fCoordinates.fX', 'crvcoincsmc/crvcoincsmc.gparent.fCoordinates.fY', 'crvcoincsmc/crvcoincsmc.gparent.fCoordinates.fZ', 'crvcoincsmc/crvcoincsmc.pos.fCoordinates.fX', 'crvcoincsmc/crvcoincsmc.pos.fCoordinates.fY', 'crvcoincsmc/crvcoincsmc.pos.fCoordinates.fZ', 'crvcoincsmc/crvcoincsmc.time', 'crvcoincsmc/crvcoincsmc.depositedEnergy', 'crvcoincsmcplane', 'crvcoincsmcplane/crvcoincsmcplane.pdgId', 'crvcoincsmcplane/crvcoincsmcplane.primaryPdgId', 'crvcoincsmcplane/crvcoincsmcplane.primaryE', 'crvcoincsmcplane/crvcoincsmcplane.primary.fCoordinates.fX', 'crvcoincsmcplane/crvcoincsmcplane.primary.fCoordinates.fY', 'crvcoincsmcplane/crvcoincsmcplane.primary.fCoordinates.fZ', 'crvcoincsmcplane/crvcoincsmcplane.pos.fCoordinates.fX', 'crvcoincsmcplane/crvcoincsmcplane.pos.fCoordinates.fY', 'crvcoincsmcplane/crvcoincsmcplane.pos.fCoordinates.fZ', 'crvcoincsmcplane/crvcoincsmcplane.dir.fCoordinates.fX', 'crvcoincsmcplane/crvcoincsmcplane.dir.fCoordinates.fY', 'crvcoincsmcplane/crvcoincsmcplane.dir.fCoordinates.fZ', 'crvcoincsmcplane/crvcoincsmcplane.time', 'crvcoincsmcplane/crvcoincsmcplane.kineticEnergy', 'crvcoincsmcplane/crvcoincsmcplane.dataSource']\n"
     ]
    }
   ],
   "source": [
    "import ShowTree\n",
    "ShowTree.Branches(files[0]+\":\"+TNameBase+\"e/ntuple\")"
   ]
  },
  {
   "cell_type": "code",
   "execution_count": 8,
   "id": "9cac38e4-390f-4626-85eb-a724e4f0259d",
   "metadata": {},
   "outputs": [
    {
     "data": {
      "image/png": "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",
      "text/plain": [
       "<Figure size 500x500 with 1 Axes>"
      ]
     },
     "metadata": {},
     "output_type": "display_data"
    }
   ],
   "source": [
    "histref.Plot()"
   ]
  },
  {
   "cell_type": "code",
   "execution_count": null,
   "id": "8e43cec0-bc98-4be5-8125-9915ec250ccd",
   "metadata": {},
   "outputs": [],
   "source": []
  }
 ],
 "metadata": {
  "kernelspec": {
   "display_name": "Python 3 (ipykernel)",
   "language": "python",
   "name": "python3"
  },
  "language_info": {
   "codemirror_mode": {
    "name": "ipython",
    "version": 3
   },
   "file_extension": ".py",
   "mimetype": "text/x-python",
   "name": "python",
   "nbconvert_exporter": "python",
   "pygments_lexer": "ipython3",
   "version": "3.12.7"
  }
 },
 "nbformat": 4,
 "nbformat_minor": 5
}
