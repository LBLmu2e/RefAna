{
 "cells": [
  {
   "cell_type": "code",
   "execution_count": 6,
   "id": "d27777cf-8d8e-4e09-94b0-6ca40be7765b",
   "metadata": {},
   "outputs": [
    {
     "name": "stdout",
     "output_type": "stream",
     "text": [
      "adding path /home/online1/brownd/mu2e/pyana/RefAna\n",
      "adding path /home/online1/brownd/mu2e/pyana/awkward-behaviors\n",
      "['/home/online1/rubyknudsen/miniconda3/envs/jupyter_env/lib/python312.zip', '/home/online1/rubyknudsen/miniconda3/envs/jupyter_env/lib/python3.12', '/home/online1/rubyknudsen/miniconda3/envs/jupyter_env/lib/python3.12/lib-dynload', '', '/home/online1/rubyknudsen/miniconda3/envs/jupyter_env/lib/python3.12/site-packages', '/home/online1/brownd/mu2e/pyana/RefAna', '/home/online1/brownd/mu2e/pyana/awkward-behaviors']\n"
     ]
    }
   ],
   "source": [
    "import sys\n",
    "extra_paths = [\"/home/online1/brownd/mu2e/pyana/RefAna\",\"/home/online1/brownd/mu2e/pyana/awkward-behaviors\"]\n",
    "for extra_path in extra_paths:\n",
    "    print(\"adding path\",extra_path)\n",
    "    if extra_path not in sys.path:\n",
    "        sys.path.append(extra_path)\n",
    "print(sys.path)"
   ]
  },
  {
   "cell_type": "code",
   "execution_count": 7,
   "id": "f62b5c9c-7778-4c82-b79f-582ff13e0b54",
   "metadata": {},
   "outputs": [],
   "source": [
    "import FitReflections"
   ]
  },
  {
   "cell_type": "code",
   "execution_count": 8,
   "id": "78e8bdb8-9233-41f6-bc08-fd90b67c2f0a",
   "metadata": {},
   "outputs": [
    {
     "name": "stdout",
     "output_type": "stream",
     "text": [

     ]
    }
   ],
   "source": [

    "reffit = FitReflections.FitReflections(reffile=\"/data/HD5/users/rubyknudsen/HistReflections_BinnedFoilHits_073125.hdf5\",\n",
    "                                       cefile=\"/data/HD5/users/rubyknudsen/HistCe.hdf5\")"
#    "reffit = FitReflections.FitReflections(reffile=\"/data/HD5/users/brownd/HistReflections_test.hdf5\",cefile=\"/data/HD5/users/brownd/HistCe.hdf5\")"
   ]
  },
  {
   "cell_type": "code",
   "execution_count": 9,
   "id": "4e4e4590-e0fc-4086-aa71-a03be45bf566",
   "metadata": {},

   "source": [
    "#reffit.TestCrystalBall()"
   ]
  },
  {
   "cell_type": "code",
   "execution_count": 10,
   "id": "152bb3fe-0253-4a69-8dd5-826944b81ad3",
   "metadata": {},
   "outputs": [
    {

      "text/plain": [
       "<Figure size 1500x500 with 2 Axes>"
      ]
     },
     "metadata": {},
     "output_type": "display_data"
    },
    {
     "data": {

      "text/plain": [
       "<Figure size 1500x500 with 2 Axes>"
      ]
     },
     "metadata": {},
     "output_type": "display_data"
    },
    {
     "data": {

      "text/plain": [
       "<Figure size 1500x500 with 2 Axes>"
      ]
     },
     "metadata": {},
     "output_type": "display_data"
    },
    {
     "data": {

      "text/plain": [
       "<Figure size 1500x500 with 2 Axes>"
      ]
     },
     "metadata": {},
     "output_type": "display_data"
    }
   ],
   "source": [
    "reffit.FitConvCrystalBall()"
   ]
  },
  {
   "cell_type": "code",
   "execution_count": null,
   "id": "878c391e-2870-4647-9678-8562c6e0318e",
   "metadata": {},
   "outputs": [],
   "source": []
  }
 ],
 "metadata": {
  "kernelspec": {
   "display_name": "Python 3 (ipykernel)",
   "language": "python",
   "name": "python3"
  },
  "language_info": {
   "codemirror_mode": {
    "name": "ipython",
    "version": 3
   },
   "file_extension": ".py",
   "mimetype": "text/x-python",
   "name": "python",
   "nbconvert_exporter": "python",
   "pygments_lexer": "ipython3",
   "version": "3.12.7"
  }
 },
 "nbformat": 4,
 "nbformat_minor": 5
}
